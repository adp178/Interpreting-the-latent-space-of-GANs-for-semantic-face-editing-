{
 "cells": [
  {
   "cell_type": "code",
   "execution_count": null,
   "metadata": {
    "id": "WyhUTvvz4Axt"
   },
   "outputs": [],
   "source": [
    "import numpy as np\n",
    "import pandas as pd\n",
    "from sklearn.svm import SVC, LinearSVC\n",
    "from sklearn.preprocessing import Binarizer\n",
    "from torchvision.utils import make_grid\n",
    "from torchvision import transforms\n",
    "from PIL import Image"
   ]
  },
  {
   "cell_type": "code",
   "execution_count": null,
   "metadata": {
    "colab": {
     "base_uri": "https://localhost:8080/"
    },
    "id": "xembXYwvq7Il",
    "outputId": "18f79563-d43c-4d04-8c62-3a8c498cdccc"
   },
   "outputs": [],
   "source": [
    "# Mount G-Drive\n",
    "from google.colab import drive\n",
    "drive.mount('/content/drive', force_remount=True)"
   ]
  },
  {
   "cell_type": "code",
   "execution_count": null,
   "metadata": {
    "colab": {
     "base_uri": "https://localhost:8080/"
    },
    "id": "TMO8D2ND3MqI",
    "outputId": "a7e2cd7a-29f8-49ee-d4a1-9b51496f0961"
   },
   "outputs": [],
   "source": [
    "!git clone https://github.com/NVlabs/stylegan2-ada-pytorch.git\n",
    "!pip install ninja"
   ]
  },
  {
   "cell_type": "code",
   "execution_count": null,
   "metadata": {
    "colab": {
     "base_uri": "https://localhost:8080/"
    },
    "id": "OveGWAbe3NMu",
    "outputId": "861f4abc-a6bc-4d3a-a08c-aaa7e2fe29e3"
   },
   "outputs": [],
   "source": [
    "!ls /content/stylegan2-ada-pytorch/"
   ]
  },
  {
   "cell_type": "code",
   "execution_count": null,
   "metadata": {
    "id": "bfG_C0PS3NWP"
   },
   "outputs": [],
   "source": [
    "import sys\n",
    "sys.path.insert(0, \"/content/stylegan2-ada-pytorch\")\n",
    "import pickle\n",
    "import os\n",
    "import numpy as np\n",
    "import PIL.Image\n",
    "from IPython.display import Image\n",
    "import matplotlib.pyplot as plt\n",
    "import IPython.display\n",
    "import torch\n",
    "import dnnlib\n",
    "import legacy\n",
    "\n",
    "def seed2vec(G, seed):\n",
    "  return np.random.RandomState(seed).randn(1, G.z_dim)\n",
    "\n",
    "def display_image(image):\n",
    "  plt.axis('off')\n",
    "  plt.imshow(image)\n",
    "  plt.show()\n",
    "\n",
    "def generate_image(G, z, truncation_psi):\n",
    "    # Render images for dlatents initialized from random seeds.\n",
    "    Gs_kwargs = {\n",
    "        'output_transform': dict(func=tflib.convert_images_to_uint8, nchw_to_nhwc=True),\n",
    "        'randomize_noise': False\n",
    "    }\n",
    "    if truncation_psi is not None:\n",
    "        Gs_kwargs['truncation_psi'] = truncation_psi\n",
    "\n",
    "    label = np.zeros([1] + G.input_shapes[1][1:])\n",
    "    images = G.run(z, label, **G_kwargs) # [minibatch, height, width, channel]\n",
    "    return images[0]\n",
    "\n",
    "def get_label(G, device, class_idx):\n",
    "  label = torch.zeros([1, G.c_dim], device=device)\n",
    "  if G.c_dim != 0:\n",
    "      if class_idx is None:\n",
    "          ctx.fail('Must specify class label with --class when using a conditional network')\n",
    "      label[:, class_idx] = 1\n",
    "  else:\n",
    "      if class_idx is not None:\n",
    "          print ('warn: --class=lbl ignored when running on an unconditional network')\n",
    "  return label\n",
    "\n",
    "def generate_image(device, G, z, truncation_psi=1.0, noise_mode='const', class_idx=None):\n",
    "  z = torch.from_numpy(z).to(device)\n",
    "  label = get_label(G, device, class_idx)\n",
    "  img = G(z, label, truncation_psi=truncation_psi, noise_mode=noise_mode)\n",
    "  img = (img.permute(0, 2, 3, 1) * 127.5 + 128).clamp(0, 255).to(torch.uint8)\n",
    "  #PIL.Image.fromarray(img[0].cpu().numpy(), 'RGB').save(f'{outdir}/seed{seed:04d}.png')\n",
    "  return PIL.Image.fromarray(img[0].cpu().numpy(), 'RGB')"
   ]
  },
  {
   "cell_type": "code",
   "execution_count": null,
   "metadata": {
    "colab": {
     "base_uri": "https://localhost:8080/"
    },
    "id": "bTHwQW8p3NiH",
    "outputId": "5f79bf6e-48d8-40a9-9388-b3d3bb53fb3a"
   },
   "outputs": [],
   "source": [
    "#Loading pre-trained StyleGAN2-ada\n",
    "URL = \"https://nvlabs-fi-cdn.nvidia.com/stylegan2-ada/pretrained/ffhq.pkl\"\n",
    "\n",
    "print(f'Loading networks from \"{URL}\"...')\n",
    "device = torch.device('cuda')\n",
    "with dnnlib.util.open_url(URL) as f:\n",
    "    G = legacy.load_network_pkl(f)['G_ema'].to(device) # type: ignore"
   ]
  },
  {
   "cell_type": "code",
   "execution_count": null,
   "metadata": {
    "id": "WuSLg3Jj3N_l"
   },
   "outputs": [],
   "source": [
    "f = open('/content/drive/My Drive/gan_latent_dataset/latent_vector.txt')"
   ]
  },
  {
   "cell_type": "code",
   "execution_count": null,
   "metadata": {
    "id": "hvyzy4zh3Og3"
   },
   "outputs": [],
   "source": [
    "m = 25000 # number of training observations"
   ]
  },
  {
   "cell_type": "code",
   "execution_count": null,
   "metadata": {
    "id": "ciCV5T753Oqi"
   },
   "outputs": [],
   "source": [
    "X = np.zeros((m,512), dtype = float) # array to store features"
   ]
  },
  {
   "cell_type": "code",
   "execution_count": null,
   "metadata": {
    "id": "QguLe6cO3Oyv"
   },
   "outputs": [],
   "source": [
    "for i in range(m):\n",
    "    s = f.readline()\n",
    "    index1 = s.index('[')\n",
    "    index2 = s.index(']')\n",
    "    l = s[index1+1:index2].split(',')\n",
    "    l = list(map(float,l))\n",
    "    X[i,:] = l"
   ]
  },
  {
   "cell_type": "code",
   "execution_count": null,
   "metadata": {
    "id": "Et0QdaCs4b9Q"
   },
   "outputs": [],
   "source": [
    "f.close()"
   ]
  },
  {
   "cell_type": "code",
   "execution_count": null,
   "metadata": {
    "id": "Rz_Ej0AR6nH6"
   },
   "outputs": [],
   "source": [
    "X = pd.DataFrame(X)"
   ]
  },
  {
   "cell_type": "code",
   "execution_count": null,
   "metadata": {
    "id": "hr5CZfKJ4cGh"
   },
   "outputs": [],
   "source": [
    "y = np.load('/content/drive/My Drive/gan_latent_dataset/prob_image.npy')"
   ]
  },
  {
   "cell_type": "code",
   "execution_count": null,
   "metadata": {
    "id": "TWqL5cLg6fvC"
   },
   "outputs": [],
   "source": [
    "y = pd.DataFrame(y.T, columns = ['no double chin','no eyeglasses','female','no moustache','smiling','age'])\n",
    "#y = pd.DataFrame(y.T, columns = ['blond','smiling'])"
   ]
  },
  {
   "cell_type": "code",
   "execution_count": null,
   "metadata": {
    "colab": {
     "base_uri": "https://localhost:8080/",
     "height": 206
    },
    "id": "FVP0aVVf6r5H",
    "outputId": "63bb3895-1577-4027-d81c-a32bf1943692"
   },
   "outputs": [],
   "source": [
    "y.head()"
   ]
  },
  {
   "cell_type": "code",
   "execution_count": null,
   "metadata": {
    "id": "ps8rN3jG4cPb"
   },
   "outputs": [],
   "source": [
    "binarizer = Binarizer(threshold = 0.5)"
   ]
  },
  {
   "cell_type": "code",
   "execution_count": null,
   "metadata": {
    "id": "Dn7IydEC4cXS"
   },
   "outputs": [],
   "source": [
    "def get_model(X, y):\n",
    "    y = binarizer.fit_transform(y.reshape(m,1)).squeeze()\n",
    "    svm_clf = LinearSVC(max_iter = 10000)\n",
    "    svm_clf.fit(X, y)\n",
    "    return svm_clf"
   ]
  },
  {
   "cell_type": "code",
   "execution_count": null,
   "metadata": {
    "id": "11H1vLjrH_Tn"
   },
   "outputs": [],
   "source": [
    "def image_grid(imgs, rows, cols):\n",
    "    assert len(imgs) == rows*cols\n",
    "\n",
    "    w, h = imgs[0].size\n",
    "    grid = Image.new('RGB', size=(cols*w, rows*h))\n",
    "    grid_w, grid_h = grid.size\n",
    "    \n",
    "    for i, img in enumerate(imgs):\n",
    "        grid.paste(img, box=(i%cols*w, i//cols*h))\n",
    "    return grid"
   ]
  },
  {
   "cell_type": "code",
   "execution_count": 1,
   "metadata": {
    "id": "nG4wYsRt4ceN"
   },
   "outputs": [],
   "source": [
    "#SVM to get hyperplanes for each atrribute\n",
    "svm_models = {} # model_name : model object"
   ]
  },
  {
   "cell_type": "code",
   "execution_count": null,
   "metadata": {
    "colab": {
     "base_uri": "https://localhost:8080/"
    },
    "id": "B5zheiB44clb",
    "outputId": "220c7906-1d62-4cc0-d248-b4595e71d656"
   },
   "outputs": [],
   "source": [
    "for col in y.columns:\n",
    "    model = get_model(X.values, y[col].values)\n",
    "    svm_models[col] = model"
   ]
  },
  {
   "cell_type": "code",
   "execution_count": null,
   "metadata": {
    "colab": {
     "base_uri": "https://localhost:8080/"
    },
    "id": "Mub9NLse4o9O",
    "outputId": "f17ee9f9-8390-4cf0-fca8-3dbae1889628"
   },
   "outputs": [],
   "source": [
    "svm_models"
   ]
  },
  {
   "cell_type": "code",
   "execution_count": null,
   "metadata": {
    "id": "IJxcL6WF4pN_"
   },
   "outputs": [],
   "source": [
    "ndc_model = svm_models['no double chin']\n",
    "ne_model = svm_models['no eyeglasses']\n",
    "ng_model = svm_models['no moustache']\n",
    "nmo_model = svm_models['smiling']\n",
    "female_model = svm_models['female']\n",
    "nm_model = svm_models['age']"
   ]
  },
  {
   "cell_type": "code",
   "execution_count": null,
   "metadata": {
    "id": "0Pm51zhQ4pWM"
   },
   "outputs": [],
   "source": [
    "def shift_latent_vec(z, alpha, svm_model):\n",
    "    \n",
    "    return z + alpha * svm_model.coef_.squeeze()"
   ]
  },
  {
   "cell_type": "code",
   "execution_count": null,
   "metadata": {
    "colab": {
     "base_uri": "https://localhost:8080/",
     "height": 248
    },
    "id": "6KUelEzW4pdv",
    "outputId": "397a0c95-4c50-45d3-f4d9-e2d969400c76"
   },
   "outputs": [],
   "source": [
    "z = X.iloc[74,:].values\n",
    "img = generate_image(device, G, z.reshape(1,512))\n",
    "display_image(img)"
   ]
  },
  {
   "cell_type": "code",
   "execution_count": null,
   "metadata": {
    "id": "9q45_9_cBq2b"
   },
   "outputs": [],
   "source": [
    "alphas = [i for i in range(0, 100, 10)]\n",
    "\n",
    "l = []\n",
    "\n",
    "for alpha in alphas:\n",
    "  z_shifted = z - alpha * ne_model.coef_ \n",
    "  img = generate_image(device, G, z_shifted.reshape(1, 512))\n",
    "  l.append(img)"
   ]
  },
  {
   "cell_type": "code",
   "execution_count": null,
   "metadata": {
    "id": "Uvy6WLPxsXiV"
   },
   "outputs": [],
   "source": [
    "from PIL import Image"
   ]
  },
  {
   "cell_type": "code",
   "execution_count": null,
   "metadata": {
    "colab": {
     "base_uri": "https://localhost:8080/",
     "height": 158
    },
    "id": "pCgFQjegGz6O",
    "outputId": "760ef884-e768-419d-aa6e-0e75e9b631b4"
   },
   "outputs": [],
   "source": [
    "grid = image_grid(l, 1, len(alphas))\n",
    "grid"
   ]
  }
 ],
 "metadata": {
  "accelerator": "GPU",
  "colab": {
   "collapsed_sections": [],
   "name": "Interface_GAN.ipynb",
   "provenance": []
  },
  "kernelspec": {
   "display_name": "Python 3 (ipykernel)",
   "language": "python",
   "name": "python3"
  },
  "language_info": {
   "codemirror_mode": {
    "name": "ipython",
    "version": 3
   },
   "file_extension": ".py",
   "mimetype": "text/x-python",
   "name": "python",
   "nbconvert_exporter": "python",
   "pygments_lexer": "ipython3",
   "version": "3.7.11"
  }
 },
 "nbformat": 4,
 "nbformat_minor": 1
}

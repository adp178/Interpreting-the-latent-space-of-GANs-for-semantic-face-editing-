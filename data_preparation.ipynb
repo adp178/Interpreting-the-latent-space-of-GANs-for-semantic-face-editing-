{
 "cells": [
  {
   "cell_type": "code",
   "execution_count": null,
   "id": "98ad2bcc",
   "metadata": {},
   "outputs": [],
   "source": [
    "import pandas as pd  \n",
    "\n",
    "data=pd.read_csv(r'C:\\Users\\Akash\\Downloads\\archive (3)\\list_attr_celeba.csv')\n",
    "\n",
    "data.info()"
   ]
  },
  {
   "cell_type": "code",
   "execution_count": null,
   "id": "77977245",
   "metadata": {},
   "outputs": [],
   "source": [
    "col_list=data.columns.tolist()\n",
    "col_list.remove('image_id')"
   ]
  },
  {
   "cell_type": "code",
   "execution_count": null,
   "id": "b4d4edeb",
   "metadata": {},
   "outputs": [],
   "source": [
    "#Reading images and labels\n",
    "\n",
    "import numpy as np\n",
    "from scipy import misc\n",
    "IMAGE_PATH = 'img_align_celeba/img_align_celeba'\n",
    "def getDataset(feature):\n",
    "    true_pathlist=[]\n",
    "    false_pathlist=[]\n",
    "    s=0\n",
    "    while len(true_pathlist)<=4000 or len(false_pathlist)<=4000:\n",
    "        s=s+10000\n",
    "        for i in range(10000):\n",
    "            f=s+i\n",
    "            if f>99999:\n",
    "                string=\"/\"\n",
    "            else:\n",
    "                string=\"/0\"\n",
    "\n",
    "\n",
    "            if data[feature][f-1]==1:\n",
    "                true_pathlist.append(IMAGE_PATH+string+str(f)+\".jpg\")\n",
    "            else:\n",
    "                false_pathlist.append(IMAGE_PATH+string+str(f)+\".jpg\")\n",
    "\n",
    "    file_paths=[]\n",
    "    labels=[]\n",
    "    k=0\n",
    "    i=0\n",
    "    j=0\n",
    "    while k<10000:\n",
    "        if i<len(true_pathlist):\n",
    "            file_paths.append(true_pathlist[i])\n",
    "            labels.append(1)\n",
    "            i=i+1\n",
    "            k=k+1\n",
    "\n",
    "        if j<len(false_pathlist):\n",
    "            file_paths.append(false_pathlist[j])\n",
    "            labels.append(0)\n",
    "            j=j+1\n",
    "            k=k+1\n",
    "\n",
    "    return file_paths , labels"
   ]
  },
  {
   "cell_type": "code",
   "execution_count": null,
   "id": "9fbbf966",
   "metadata": {},
   "outputs": [],
   "source": [
    "train_files=[]\n",
    "train_labels=[]\n",
    "for col in col_list:\n",
    "    file_paths,labels=getDataset(col)\n",
    "    train_files.append(file_paths)\n",
    "    train_labels.append(labels)"
   ]
  },
  {
   "cell_type": "code",
   "execution_count": null,
   "id": "74d1b00c",
   "metadata": {},
   "outputs": [],
   "source": [
    "len(train_labels[0])"
   ]
  },
  {
   "cell_type": "code",
   "execution_count": null,
   "id": "d6eee537",
   "metadata": {},
   "outputs": [],
   "source": [
    "import pickle\n",
    "#dumping the data into pickle file\n",
    "with open('train_data.pkl', 'wb') as f:  \n",
    "    pickle.dump([train_files,train_labels], f)"
   ]
  }
 ],
 "metadata": {
  "kernelspec": {
   "display_name": "Python 3 (ipykernel)",
   "language": "python",
   "name": "python3"
  },
  "language_info": {
   "codemirror_mode": {
    "name": "ipython",
    "version": 3
   },
   "file_extension": ".py",
   "mimetype": "text/x-python",
   "name": "python",
   "nbconvert_exporter": "python",
   "pygments_lexer": "ipython3",
   "version": "3.7.11"
  }
 },
 "nbformat": 4,
 "nbformat_minor": 5
}

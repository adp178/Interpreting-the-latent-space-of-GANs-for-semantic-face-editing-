{
 "cells": [
  {
   "cell_type": "code",
   "execution_count": null,
   "id": "9ea39621",
   "metadata": {},
   "outputs": [],
   "source": [
    "import pandas as pd  \n",
    "\n",
    "data=pd.read_csv(r'C:\\Users\\Akash\\Downloads\\archive (3)\\list_attr_celeba.csv')\n",
    "\n",
    "data.info()"
   ]
  },
  {
   "cell_type": "code",
   "execution_count": null,
   "id": "0b15c32f",
   "metadata": {},
   "outputs": [],
   "source": [
    "col_list=data.columns.tolist()\n",
    "col_list.remove('image_id')"
   ]
  },
  {
   "cell_type": "code",
   "execution_count": null,
   "id": "30d8f935",
   "metadata": {},
   "outputs": [],
   "source": [
    "import glob\n",
    "import numpy as np\n",
    "import imageio\n",
    "import os.path as path\n",
    "from scipy import misc\n",
    "\n",
    "IMAGE_PATH = r'C:\\Users\\Akash\\Downloads\\gan_latent_dataset-20211213T174501Z-001\\gan_latent_dataset\\first_2500' + '\\\\'\n",
    "file_paths = glob.glob(path.join(IMAGE_PATH, '*.jpeg'))\n",
    "\n",
    "images = [imageio.imread(path) for path in file_paths]\n",
    "#images = images[:500]"
   ]
  },
  {
   "cell_type": "code",
   "execution_count": null,
   "id": "bd72fc1d",
   "metadata": {},
   "outputs": [],
   "source": [
    "#import imageio\n",
    "len(images)\n",
    "#images = [imageio.imread('000026.jpg')]"
   ]
  },
  {
   "cell_type": "code",
   "execution_count": null,
   "id": "d43aeacf",
   "metadata": {},
   "outputs": [],
   "source": [
    "import cv2\n",
    "import numpy as np\n",
    "new_img=[]\n",
    "for i in range(len(images)):\n",
    "    img=cv2.resize(images[i],(128,128))\n",
    "    new_img.append(img)\n",
    "    \n",
    "images=np.asarray(new_img)\n",
    "images=images/255"
   ]
  },
  {
   "cell_type": "code",
   "execution_count": null,
   "id": "46d0d486",
   "metadata": {},
   "outputs": [],
   "source": [
    "from keras.utils import np_utils\n",
    "from keras.models import load_model\n",
    "import os.path as path\n",
    "#mod_counter=[9,31]\n",
    "#s=0\n",
    "#t=0\n",
    "comp_prob = []\n",
    "#image_id = 0\n",
    "for j in range(40):\n",
    "    print(\"\\n\\nAttribute: \",j)\n",
    "    print(col_list[j])\n",
    "    #labels=[]   \n",
    "    model = load_model('model'+str(j)+'.h5')\n",
    "    #print(labels[0])\n",
    "    preds=model.predict(images)\n",
    "    #print(preds)\n",
    "    #image_id+=1\n",
    "    comp_prob.append(preds)\n",
    "    #for i in range(len(images)):\n",
    "     #   filename = path.basename(file_paths[i])\n",
    "      #  index = int(filename.split(\".\")[0])\n"
   ]
  },
  {
   "cell_type": "code",
   "execution_count": null,
   "id": "9ad9fc33",
   "metadata": {},
   "outputs": [],
   "source": [
    "final_arr= []\n",
    "for i in range(len(comp_prob)):\n",
    "    final_arr.append(comp_prob[i][:,0]) "
   ]
  },
  {
   "cell_type": "code",
   "execution_count": null,
   "id": "e1da93c1",
   "metadata": {},
   "outputs": [],
   "source": [
    "len(comp_prob)"
   ]
  },
  {
   "cell_type": "code",
   "execution_count": null,
   "id": "6d7f28ac",
   "metadata": {},
   "outputs": [],
   "source": [
    "final = np.array(final_arr)"
   ]
  },
  {
   "cell_type": "code",
   "execution_count": null,
   "id": "534695eb",
   "metadata": {},
   "outputs": [],
   "source": [
    "from numpy import save\n",
    "save('prob_image.npy', final)"
   ]
  },
  {
   "cell_type": "code",
   "execution_count": null,
   "id": "4ca7f10e",
   "metadata": {},
   "outputs": [],
   "source": [
    "final_arr"
   ]
  },
  {
   "cell_type": "code",
   "execution_count": null,
   "id": "b20d352f",
   "metadata": {},
   "outputs": [],
   "source": []
  }
 ],
 "metadata": {
  "kernelspec": {
   "display_name": "Python 3 (ipykernel)",
   "language": "python",
   "name": "python3"
  },
  "language_info": {
   "codemirror_mode": {
    "name": "ipython",
    "version": 3
   },
   "file_extension": ".py",
   "mimetype": "text/x-python",
   "name": "python",
   "nbconvert_exporter": "python",
   "pygments_lexer": "ipython3",
   "version": "3.7.11"
  }
 },
 "nbformat": 4,
 "nbformat_minor": 5
}
